{
 "cells": [
  {
   "cell_type": "code",
   "execution_count": 1,
   "metadata": {},
   "outputs": [],
   "source": [
    "%matplotlib inline\n",
    "import os\n",
    "\n",
    "import numpy as np\n",
    "import pandas as pd\n",
    "# import seaborn as sns\n",
    "import calmap\n",
    "\n",
    "# from nba_utils import draw_3pt_piechart,plot_shot_chart\n",
    "\n",
    "from IPython.core.display import display, HTML\n",
    "from IPython.core.magic import register_cell_magic, register_line_cell_magic, register_line_magic\n",
    "from matplotlib import pyplot as plt\n",
    "from matplotlib import cm as cm\n",
    "from matplotlib import colorbar as cbar\n",
    "from matplotlib import cbook as cbook\n",
    "from pyspark.ml.regression import LinearRegression\n",
    "from pyspark.ml.feature import VectorAssembler\n",
    "from pyspark.sql.functions import array, col, count, mean, sum, udf, when\n",
    "from pyspark.sql.types import DoubleType, IntegerType, StringType, Row\n",
    "from pyspark.sql.functions import sum, col, udf, expr\n",
    "from pyspark.sql.functions import year, month, dayofmonth, hour, minute\n",
    "from pyspark.sql.types import *\n",
    "\n",
    "import warnings\n",
    "warnings.filterwarnings(\"ignore\")\n",
    "\n",
    "# sns.set_style(\"white\")\n",
    "# sns.set_color_codes()"
   ]
  },
  {
   "cell_type": "markdown",
   "metadata": {},
   "source": [
    "# Crime data import"
   ]
  },
  {
   "cell_type": "code",
   "execution_count": 2,
   "metadata": {},
   "outputs": [],
   "source": [
    "customSchema = StructType([ \n",
    "    StructField(\"IncidntNum\", StringType(), True), \n",
    "    StructField(\"Category\", StringType(), True), \n",
    "    StructField(\"Description\", StringType(), True), \n",
    "    StructField(\"DayOfWeek\", StringType(), True), \n",
    "    StructField(\"Date_str\", StringType(), True), \n",
    "    StructField(\"Time_str\", StringType(), True), \n",
    "    StructField(\"District\", StringType(), True), \n",
    "    StructField(\"Resolution\", StringType(), True), \n",
    "    StructField(\"Address\", StringType(), True),\n",
    "    StructField(\"Longitude\", DoubleType(), True),\n",
    "    StructField(\"Latitude\", DoubleType(), True),\n",
    "    StructField(\"Location\", StringType(), True),\n",
    "    StructField(\"PdId\", StringType(), True), ])"
   ]
  },
  {
   "cell_type": "code",
   "execution_count": 3,
   "metadata": {},
   "outputs": [],
   "source": [
    "crimeDFsource = spark.read.csv('s3a://davidsx/dataSFcrime/', header=True, schema = customSchema)"
   ]
  },
  {
   "cell_type": "code",
   "execution_count": 4,
   "metadata": {},
   "outputs": [],
   "source": [
    "from pyspark.sql.functions import to_timestamp, concat_ws\n",
    "\n",
    "crimeDF = crimeDFsource.withColumn(\"DateTime_str\", concat_ws(' ',crimeDFsource.Date_str,crimeDFsource.Time_str))\\\n",
    ".withColumn('Datetime',to_timestamp('DateTime_str', 'MM/dd/yyyy HH:mm').cast(TimestampType()))\\\n",
    "\n",
    "crimeDF = crimeDF.withColumn(\"Year\", year(\"Datetime\")).withColumn(\"Month\", month(\"Datetime\"))\\\n",
    ".withColumn(\"DayOfMonth\",dayofmonth(\"Datetime\")).withColumn(\"Hour\", hour(\"Datetime\"))\\\n",
    ".withColumn(\"Minute\", minute(\"Datetime\"))\n",
    "\n",
    "crimeDF = crimeDF.drop('Date_str','Time_str','DateTime_str','Resolution','Location','PdId')\n",
    "crimeDF = crimeDF.select('IncidntNum', 'Category', 'Description', 'Datetime', 'Year', 'Month', \\\n",
    " 'DayOfMonth', 'DayOfWeek', 'Hour', 'Minute', 'District', 'Address', 'Longitude', 'Latitude')"
   ]
  },
  {
   "cell_type": "markdown",
   "metadata": {},
   "source": [
    "# Weather Data Import"
   ]
  },
  {
   "cell_type": "code",
   "execution_count": 5,
   "metadata": {},
   "outputs": [],
   "source": [
    "weatherDF = spark.read.csv('s3a://davidsx/weather', header=True)"
   ]
  },
  {
   "cell_type": "code",
   "execution_count": 6,
   "metadata": {},
   "outputs": [],
   "source": [
    "from pyspark.sql.functions import to_timestamp, concat_ws, regexp_replace\n",
    "\n",
    "weatherDF = weatherDF.withColumn('Datetime_str',regexp_replace(col(\"DATE\"), \"T\", \" \"))\\\n",
    ".withColumn('Datetime',to_timestamp('DateTime_str', 'yyyy-MM-dd HH:mm:ss').cast(TimestampType()))\\\n",
    "\n",
    "\n",
    "weatherDF = weatherDF.withColumn(\"Year\", year(\"Datetime\")).withColumn(\"Month\", month(\"Datetime\"))\\\n",
    ".withColumn(\"DayOfMonth\",dayofmonth(\"Datetime\")).withColumn(\"Hour\", hour(\"Datetime\"))\\\n",
    ".withColumn(\"Minute\", minute(\"Datetime\"))\n",
    "\n",
    "weatherDF = weatherDF.withColumn(\"Type\",col(\"REPORT_TYPE2\"))\n",
    "\n",
    "weatherDF = weatherDF.drop('DATE','Datetime_str','REPORT_TYPE2')\n",
    "# weatherDF.select('DATE').show()"
   ]
  },
  {
   "cell_type": "code",
   "execution_count": 7,
   "metadata": {},
   "outputs": [],
   "source": [
    "wdDF = weatherDF.where(col('Type').like('SOD%'))\n",
    "wdDF = wdDF.select(  \\\n",
    " 'Type',\n",
    " 'Datetime',\n",
    " 'Year',\n",
    " 'Month',\n",
    " 'DayOfMonth',\n",
    " 'Hour',\n",
    " 'Minute',\n",
    " 'DailyAverageDryBulbTemperature',\n",
    "#  'DailyCoolingDegreeDays',\n",
    "#  'DailyDepartureFromNormalAverageTemperature',\n",
    "#  'DailyHeatingDegreeDays',\n",
    "#  'DailyMaximumDryBulbTemperature',\n",
    "#  'DailyMinimumDryBulbTemperature',\n",
    " 'DailyPrecipitation').where(col('Year')!=2019)\n",
    "wdDF = wdDF.withColumn('Temperature_str',col('DailyAverageDryBulbTemperature')).drop('DailyAverageDryBulbTemperature')\n",
    "wdDF = wdDF.withColumn('Precipitation_str',col('DailyPrecipitation')).drop('DailyPrecipitation')\n",
    "# weatherDF = weatherDF.withColumn('Precipitation_str',col('Precipitation')).drop('Precipitation')\n",
    "wdDF = wdDF\\\n",
    ".withColumn(\"Precipitation\", when(col(\"Precipitation_str\").endswith('s'), \\\n",
    "                                  expr(\"substring(Precipitation_str, 1, length(Precipitation_str)-1)\")\\\n",
    "                                  .cast(DoubleType()))\n",
    "            .otherwise(col(\"Precipitation_str\").cast(DoubleType())))\n",
    "wdDF = wdDF.withColumn(\"Temperature\", col('Temperature_str').cast(DoubleType()))"
   ]
  },
  {
   "cell_type": "markdown",
   "metadata": {},
   "source": [
    "# Create joined dataframe"
   ]
  },
  {
   "cell_type": "code",
   "execution_count": 8,
   "metadata": {},
   "outputs": [],
   "source": [
    "crimeDF.cache()\n",
    "sqlContext.registerDataFrameAsTable(crimeDF, 'df')\n",
    "sqlContext.registerDataFrameAsTable(wdDF, 'wd')"
   ]
  },
  {
   "cell_type": "code",
   "execution_count": 9,
   "metadata": {},
   "outputs": [],
   "source": [
    "joinDF = sqlContext.sql(\n",
    "\"select df.Category, df.Datetime, df.Year, df.Month, df.DayOfMonth, df.Hour, df.Minute, \\\n",
    "        df.Longitude, df.Latitude, wd.Temperature, wd.Precipitation \" + \n",
    "\"from df left join wd \" +\n",
    "\"where df.Year = wd.Year and df.Month = wd.Month and df.DayOfMonth = wd.DayOfMonth\")\\\n",
    ".where((col('Longitude').isNotNull())&(col('Latitude').isNotNull())&\\\n",
    "       (col('Temperature').isNotNull())&(col('Precipitation').isNotNull()))"
   ]
  },
  {
   "cell_type": "code",
   "execution_count": 10,
   "metadata": {},
   "outputs": [],
   "source": [
    "count = crimeDF.groupBy('Category').count().orderBy('count')\\\n",
    ".filter(~col('Category').isin([u'NON-CRIMINAL', u'OTHER OFFENSES']))\n",
    "total = crimeDF.filter(~col('Category').isin([u'NON-CRIMINAL', u'OTHER OFFENSES'])).count()"
   ]
  },
  {
   "cell_type": "code",
   "execution_count": 14,
   "metadata": {},
   "outputs": [],
   "source": [
    "main_crime = \\\n",
    "[u'WARRANTS',\n",
    " u'VANDALISM',\n",
    " u'DRUG/NARCOTIC',\n",
    " u'VEHICLE THEFT',\n",
    " u'ASSAULT',\n",
    " u'LARCENY/THEFT']"
   ]
  },
  {
   "cell_type": "markdown",
   "metadata": {},
   "source": [
    "# Crime vs precipitation "
   ]
  },
  {
   "cell_type": "code",
   "execution_count": 40,
   "metadata": {},
   "outputs": [],
   "source": [
    "def preparePlot(xticks, yticks, figsize=(10.5, 6), hideLabels=False, gridColor='#999999',\n",
    "                gridWidth=1.0):\n",
    "    plt.close()\n",
    "    fig, ax = plt.subplots(figsize=figsize, facecolor='white', edgecolor='white')\n",
    "    ax.axes.tick_params(labelcolor='#999999', labelsize='10')\n",
    "    for axis, ticks in [(ax.get_xaxis(), xticks), (ax.get_yaxis(), yticks)]:\n",
    "        axis.set_ticks_position('none')\n",
    "        axis.set_ticks(ticks)\n",
    "        axis.label.set_color('#999999')\n",
    "        if hideLabels: axis.set_ticklabels([])\n",
    "    plt.grid(color=gridColor, linewidth=gridWidth, linestyle='-')\n",
    "    map(lambda position: ax.spines[position].set_visible(False), ['bottom', 'top', 'left', 'right'])\n",
    "    return fig, ax"
   ]
  },
  {
   "cell_type": "raw",
   "metadata": {
    "scrolled": false
   },
   "source": [
    "# data plotted with categories which is not work\n",
    "data = joinDF.orderBy('Category','Precipitation').groupBy('Category','Precipitation').count()\\\n",
    ".where(col('Precipitation').isNotNull()).where(col('Category').isNotNull())\\\n",
    ".where(col('Precipitation').between(0.01,1.5))\\\n",
    ".where(col('Category').isin(main_crime))\n",
    "\n",
    "precipitation = np.arange(150,dtype=float).tolist()\n",
    "for i in range(len(precipitation)):\n",
    "    precipitation[i] = (precipitation[i]+1)/100.\n",
    "xlen = len(precipitation)\n",
    "# categories = [u'ARSON', u'ASSAULT', u'BAD CHECKS', u'BRIBERY', u'BURGLARY', u'DISORDERLY CONDUCT',\\\n",
    "#           u'DRIVING UNDER THE INFLUENCE', u'DRUG/NARCOTIC', u'DRUNKENNESS', u'EMBEZZLEMENT', \\\n",
    "#           u'EXTORTION', u'FAMILY OFFENSES', u'FORGERY/COUNTERFEITING', u'FRAUD', u'GAMBLING', \\\n",
    "#           u'KIDNAPPING', u'LARCENY/THEFT', u'LIQUOR LAWS', u'LOITERING', u'MISSING PERSON', \\\n",
    "#           u'NON-CRIMINAL', u'OTHER OFFENSES', u'PORNOGRAPHY/OBSCENE MAT', u'PROSTITUTION', \\\n",
    "#           u'RECOVERED VEHICLE', u'ROBBERY', u'RUNAWAY', u'SECONDARY CODES', \\\n",
    "#           u'SEX OFFENSES, FORCIBLE', u'SEX OFFENSES, NON FORCIBLE', u'STOLEN PROPERTY', \\\n",
    "#           u'SUICIDE', u'SUSPICIOUS OCC', u'TREA', u'TRESPASS', u'VANDALISM', u'VEHICLE THEFT',\\\n",
    "#           u'WARRANTS', u'WEAPON LAWS']\n",
    "categories = main_crime\n",
    "categories = list(categories)\n",
    "ylen = len(categories)\n",
    "count = data.rdd.map(lambda x:x[2]).collect()\n",
    "clen = len(count)\n",
    "data2d = data.collect()\n",
    "\n",
    "img_p = np.zeros(ylen*xlen, dtype=float).reshape(ylen,xlen)\n",
    "#calculation of index between 0 and 1\n",
    "maxc = np.amax(count)\n",
    "minc = np.amin(count)\n",
    "flow = maxc - minc\n",
    "\n",
    "for row in data2d:\n",
    "    category = row[0]\n",
    "    prep = row[1]\n",
    "    value = row[2]\n",
    "    img_p[categories.index(category)][precipitation.index(prep)] = value\n",
    "    \n",
    "for row in img_p:\n",
    "    for i in range(len(row)):\n",
    "        row[i] = (row[i]-minc)/maxc"
   ]
  },
  {
   "cell_type": "code",
   "execution_count": 148,
   "metadata": {},
   "outputs": [],
   "source": [
    "data = joinDF.orderBy('Precipitation').groupBy('Precipitation').count()\\\n",
    ".where(col('Precipitation').isNotNull())\\\n",
    ".where(col('Precipitation').between(0.01,0.70))\\"
   ]
  },
  {
   "cell_type": "code",
   "execution_count": 160,
   "metadata": {},
   "outputs": [],
   "source": [
    "precipitation = data.rdd.map(lambda x: round(x[0],2)).collect()\n",
    "precipitation = list(precipitation)\n",
    "xlen = len(precipitation)\n",
    "ylen = 1\n",
    "count = data.rdd.map(lambda x:x[1]).collect()\n",
    "clen = len(count)\n",
    "data2d = data.collect()"
   ]
  },
  {
   "cell_type": "code",
   "execution_count": 161,
   "metadata": {},
   "outputs": [],
   "source": [
    "img_p = np.zeros(xlen, dtype=float).reshape(1,xlen)\n",
    "#calculation of index between 0 and 1\n",
    "maxc = np.amax(count)\n",
    "minc = np.amin(count)\n",
    "flow = maxc - minc\n",
    "\n",
    "for row in data2d:\n",
    "    prep = row[0]\n",
    "    value = row[1]\n",
    "    img_p[0][precipitation.index(prep)] = value/float(maxc)\n",
    "    \n",
    "# for row in img_p:\n",
    "#     row[i] = (value-minc)/maxc"
   ]
  },
  {
   "cell_type": "code",
   "execution_count": 162,
   "metadata": {
    "scrolled": false
   },
   "outputs": [
    {
     "data": {
      "image/png": "[encoded data removed]",
      "text/plain": [
       "<Figure size 720x216 with 2 Axes>"
      ]
     },
     "metadata": {},
     "output_type": "display_data"
    }
   ],
   "source": [
    "fig, ax = preparePlot(np.arange(.5, xlen, 1), np.arange(.5, ylen, 1), figsize=(10,3),\\\n",
    "                        hideLabels=True, gridColor='#eeeeee', gridWidth=0.2)\n",
    "\n",
    "# interpolate crime intensity per hour on the grid\n",
    "image = plt.imshow(img_p,  aspect='auto', cmap=cm.Blues)\n",
    "\n",
    "# plt.text(-15, 0, 'Crime Density', color='#999999',  size='15')\n",
    "plt.text(-.30, .6, '1mm', color='#999999', size='12')\n",
    "plt.text(xlen-5.5, .6, '70mm', color='#999999', size='12')\n",
    "# y-axis labels\n",
    "plt.title(\"Distribution of crimes with influence of precipitation in San Francisco\", size=17, y=1.05)\n",
    "plt.xlabel(\"Precipitation\", color='#999999', size=\"15\")\n",
    "plt.ylabel(\"Crime Density\", color='#999999', size=\"15\")\n",
    "\n",
    "ax.yaxis.set_label_position(\"left\")\n",
    "\n",
    "# plot the colobar to show scale\n",
    "cbar = fig.colorbar(image, ticks=[0, 0.5, 1], shrink=0.5, orientation='horizontal')\n",
    "cbar.ax.set_xticklabels(['Low', 'Medium', 'High'])\n",
    "\n",
    "plt.tick_params(top='off', bottom='off', left='off', right='off', labelleft='off', labelbottom='off')\n",
    "\n",
    "plt.show()"
   ]
  },
  {
   "cell_type": "code",
   "execution_count": 164,
   "metadata": {},
   "outputs": [
    {
     "data": {
      "text/plain": [
       "[<matplotlib.lines.Line2D at 0x7fc09822c0d0>]"
      ]
     },
     "execution_count": 164,
     "metadata": {},
     "output_type": "execute_result"
    },
    {
     "data": {
      "image/png": "[encoded data removed]",
      "text/plain": [
       "<Figure size 720x216 with 1 Axes>"
      ]
     },
     "metadata": {
      "needs_background": "light"
     },
     "output_type": "display_data"
    }
   ],
   "source": [
    "fig = plt.figure(figsize=(10,3))\n",
    "ax = fig.add_subplot(111)\n",
    "\n",
    "ax.plot(precipitation,count, color='darkblue')"
   ]
  },
  {
   "cell_type": "markdown",
   "metadata": {},
   "source": [
    "# Crime vs temperature "
   ]
  },
  {
   "cell_type": "raw",
   "metadata": {
    "scrolled": false
   },
   "source": [
    "# Crime vs precipitation # joinDF.orderBy('Category','Precipitation').groupBy('Category','Precipitation').count().show()\n",
    "data_t = joinDF.orderBy('Category','Temperature').groupBy('Category','Temperature').count()\\\n",
    ".where(col('Temperature').isNotNull()).where(col('Category').isNotNull())\\\n",
    ".where(col('Category').isin(main_crime))\n",
    "\n",
    "temperature = data_t.orderBy('Temperature').groupBy('Temperature').count().rdd.map(lambda x: x[0]).collect()\n",
    "temperature = list(temperature)\n",
    "xlen = len(temperature)\n",
    "\n",
    "# categories = [u'ARSON', u'ASSAULT', u'BAD CHECKS', u'BRIBERY', u'BURGLARY', u'DISORDERLY CONDUCT',\\\n",
    "#           u'DRIVING UNDER THE INFLUENCE', u'DRUG/NARCOTIC', u'DRUNKENNESS', u'EMBEZZLEMENT', \\\n",
    "#           u'EXTORTION', u'FAMILY OFFENSES', u'FORGERY/COUNTERFEITING', u'FRAUD', u'GAMBLING', \\\n",
    "#           u'KIDNAPPING', u'LARCENY/THEFT', u'LIQUOR LAWS', u'LOITERING', u'MISSING PERSON', \\\n",
    "#           u'NON-CRIMINAL', u'OTHER OFFENSES', u'PORNOGRAPHY/OBSCENE MAT', u'PROSTITUTION', \\\n",
    "#           u'RECOVERED VEHICLE', u'ROBBERY', u'RUNAWAY', u'SECONDARY CODES', \\\n",
    "#           u'SEX OFFENSES, FORCIBLE', u'SEX OFFENSES, NON FORCIBLE', u'STOLEN PROPERTY', \\\n",
    "#           u'SUICIDE', u'SUSPICIOUS OCC', u'TREA', u'TRESPASS', u'VANDALISM', u'VEHICLE THEFT',\\\n",
    "#           u'WARRANTS', u'WEAPON LAWS']\n",
    "categories = main_crime\n",
    "categories = list(categories)\n",
    "ylen = len(categories)\n",
    "count = data_t.rdd.map(lambda x:x[2]).collect()\n",
    "clen = len(count)\n",
    "data2d = data_t.collect()\n",
    "\n",
    "img_t = np.zeros(ylen*xlen, dtype=float).reshape(ylen,xlen)\n",
    "#calculation of index between 0 and 1\n",
    "maxc = np.amax(count)\n",
    "minc = np.amin(count)\n",
    "flow = maxc - minc\n",
    "\n",
    "for row in data2d:\n",
    "    category = row[0]\n",
    "    temp = row[1]\n",
    "    value = row[2]\n",
    "    img_t[categories.index(category)][temperature.index(temp)] = value\n",
    "    \n",
    "for row in img_t:\n",
    "    for i in range(len(row)):\n",
    "        row[i] = (row[i]-minc)/maxc"
   ]
  },
  {
   "cell_type": "code",
   "execution_count": 166,
   "metadata": {},
   "outputs": [],
   "source": [
    "data_t = joinDF.orderBy('Temperature').groupBy('Temperature').count()\\\n",
    ".where(col('Temperature').isNotNull())\\"
   ]
  },
  {
   "cell_type": "code",
   "execution_count": 167,
   "metadata": {},
   "outputs": [],
   "source": [
    "temperature = data_t.orderBy('Temperature').groupBy('Temperature').count().rdd.map(lambda x: x[0]).collect()\n",
    "temperature = list(temperature)\n",
    "xlen = len(temperature)"
   ]
  },
  {
   "cell_type": "code",
   "execution_count": 176,
   "metadata": {},
   "outputs": [],
   "source": [
    "ylen = 1\n",
    "count = data_t.rdd.map(lambda x:x[1]).collect()\n",
    "count = list(count)\n",
    "clen = len(count)\n",
    "data2d = data_t.collect()"
   ]
  },
  {
   "cell_type": "code",
   "execution_count": 169,
   "metadata": {},
   "outputs": [],
   "source": [
    "img_t = np.zeros(ylen*xlen, dtype=float).reshape(ylen,xlen)\n",
    "#calculation of index between 0 and 1\n",
    "maxc = np.amax(count)\n",
    "minc = np.amin(count)\n",
    "flow = maxc - minc\n",
    "\n",
    "for row in data2d:\n",
    "    temp = row[0]\n",
    "    value = row[1]\n",
    "    img_t[0][temperature.index(temp)] = value/float(maxc)"
   ]
  },
  {
   "cell_type": "code",
   "execution_count": 170,
   "metadata": {},
   "outputs": [
    {
     "data": {
      "image/png": "[encoded data removed]",
      "text/plain": [
       "<Figure size 720x216 with 2 Axes>"
      ]
     },
     "metadata": {},
     "output_type": "display_data"
    }
   ],
   "source": [
    "fig, ax = preparePlot(np.arange(.5, xlen, 1), np.arange(.5, ylen, 1), figsize=(10,3),\\\n",
    "                        hideLabels=True, gridColor='#eeeeee', gridWidth=0.2)\n",
    "\n",
    "# interpolate crime intensity per hour on the grid\n",
    "image = plt.imshow(img_t,  aspect='auto', cmap=cm.Reds)\n",
    "\n",
    "plt.text(-.30, .6, str(temperature[0]), color='#999999', size='12')\n",
    "plt.text(xlen-2.5, .6, str(temperature[-1]), color='#999999', size='12')\n",
    "\n",
    "# title, xlabel, ylabel\n",
    "plt.title(\"Distribution of crimes with influence of temperature in San Francisco\", size=17, y=1.05)\n",
    "plt.xlabel(\"Temperature\", color='#999999', size=\"15\")\n",
    "plt.ylabel(\"Crime Density\", color='#999999', size=\"15\")\n",
    "\n",
    "ax.yaxis.set_label_position(\"right\")\n",
    "\n",
    "# plot the colobar to show scale\n",
    "cbar = fig.colorbar(image, ticks=[0, 0.5, 1], shrink=0.5, orientation='horizontal')\n",
    "cbar.ax.set_xticklabels(['Low', 'Medium', 'High'])\n",
    "\n",
    "plt.tick_params(top='off', bottom='off', left='off', right='off', labelleft='off', labelbottom='off')\n",
    "\n",
    "plt.show()"
   ]
  },
  {
   "cell_type": "code",
   "execution_count": 202,
   "metadata": {
    "scrolled": true
   },
   "outputs": [
    {
     "data": {
      "text/plain": [
       "[<matplotlib.lines.Line2D at 0x7fc08fcc8110>]"
      ]
     },
     "execution_count": 202,
     "metadata": {},
     "output_type": "execute_result"
    },
    {
     "data": {
      "image/png": "[encoded data removed]",
      "text/plain": [
       "<Figure size 720x216 with 1 Axes>"
      ]
     },
     "metadata": {
      "needs_background": "light"
     },
     "output_type": "display_data"
    }
   ],
   "source": [
    "tmax = np.amax(count)\n",
    "tval = temperature[count.index(tmax)]\n",
    "\n",
    "fig = plt.figure(figsize=(10,3))\n",
    "ax = fig.add_subplot(111)\n",
    "plt.text(50,70,\"Highest Crime Density at {0:.0f} degree\".format(tval),color='darkRed')\n",
    "ax.plot(temperature,count, color='darkred')"
   ]
  },
  {
   "cell_type": "code",
   "execution_count": 10,
   "metadata": {},
   "outputs": [],
   "source": [
    "categories = [u'ARSON', u'ASSAULT', u'BAD CHECKS', u'BRIBERY', u'BURGLARY', u'DISORDERLY CONDUCT',\\\n",
    "              u'DRIVING UNDER THE INFLUENCE', u'DRUG/NARCOTIC', u'DRUNKENNESS', u'EMBEZZLEMENT', \\\n",
    "              u'EXTORTION', u'FAMILY OFFENSES', u'FORGERY/COUNTERFEITING', u'FRAUD', u'GAMBLING', \\\n",
    "              u'KIDNAPPING', u'LARCENY/THEFT', u'LIQUOR LAWS', u'LOITERING', u'MISSING PERSON', \\\n",
    "              u'NON-CRIMINAL', u'OTHER OFFENSES', u'PORNOGRAPHY/OBSCENE MAT', u'PROSTITUTION', \\\n",
    "              u'RECOVERED VEHICLE', u'ROBBERY', u'RUNAWAY', u'SECONDARY CODES', \\\n",
    "              u'SEX OFFENSES, FORCIBLE', u'SEX OFFENSES, NON FORCIBLE', u'STOLEN PROPERTY', \\\n",
    "              u'SUICIDE', u'SUSPICIOUS OCC', u'TREA', u'TRESPASS', u'VANDALISM', u'VEHICLE THEFT',\\\n",
    "              u'WARRANTS', u'WEAPON LAWS']"
   ]
  },
  {
   "cell_type": "code",
   "execution_count": 1,
   "metadata": {},
   "outputs": [
    {
     "ename": "NameError",
     "evalue": "name 'plt' is not defined",
     "output_type": "error",
     "traceback": [
      "\u001b[0;31m---------------------------------------------------------------------------\u001b[0m",
      "\u001b[0;31mNameError\u001b[0m                                 Traceback (most recent call last)",
      "\u001b[0;32m<ipython-input-1-88246c460a26>\u001b[0m in \u001b[0;36m<module>\u001b[0;34m()\u001b[0m\n\u001b[0;32m----> 1\u001b[0;31m \u001b[0mfig\u001b[0m \u001b[0;34m=\u001b[0m \u001b[0mplt\u001b[0m\u001b[0;34m.\u001b[0m\u001b[0mfigure\u001b[0m\u001b[0;34m(\u001b[0m\u001b[0mfigsize\u001b[0m\u001b[0;34m=\u001b[0m\u001b[0;34m(\u001b[0m\u001b[0;36m15\u001b[0m\u001b[0;34m,\u001b[0m\u001b[0;36m6\u001b[0m\u001b[0;34m)\u001b[0m\u001b[0;34m)\u001b[0m\u001b[0;34m\u001b[0m\u001b[0m\n\u001b[0m\u001b[1;32m      2\u001b[0m \u001b[0max\u001b[0m \u001b[0;34m=\u001b[0m \u001b[0mfig\u001b[0m\u001b[0;34m.\u001b[0m\u001b[0madd_subplot\u001b[0m\u001b[0;34m(\u001b[0m\u001b[0;36m111\u001b[0m\u001b[0;34m)\u001b[0m\u001b[0;34m\u001b[0m\u001b[0m\n\u001b[1;32m      3\u001b[0m \u001b[0;34m\u001b[0m\u001b[0m\n\u001b[1;32m      4\u001b[0m \u001b[0mdata\u001b[0m \u001b[0;34m=\u001b[0m \u001b[0mjoinDF\u001b[0m\u001b[0;34m.\u001b[0m\u001b[0mgroupBy\u001b[0m\u001b[0;34m(\u001b[0m\u001b[0;34m'Category'\u001b[0m\u001b[0;34m,\u001b[0m\u001b[0;34m'Temperature'\u001b[0m\u001b[0;34m)\u001b[0m\u001b[0;34m.\u001b[0m\u001b[0mcount\u001b[0m\u001b[0;34m(\u001b[0m\u001b[0;34m)\u001b[0m\u001b[0;34m.\u001b[0m\u001b[0morderBy\u001b[0m\u001b[0;34m(\u001b[0m\u001b[0;34m'Category'\u001b[0m\u001b[0;34m,\u001b[0m\u001b[0;34m'Temperature'\u001b[0m\u001b[0;34m)\u001b[0m\u001b[0;34m\u001b[0m\u001b[0m\n\u001b[1;32m      5\u001b[0m \u001b[0mx\u001b[0m \u001b[0;34m=\u001b[0m \u001b[0mdata\u001b[0m\u001b[0;34m.\u001b[0m\u001b[0mrdd\u001b[0m\u001b[0;34m.\u001b[0m\u001b[0mmap\u001b[0m\u001b[0;34m(\u001b[0m\u001b[0;32mlambda\u001b[0m \u001b[0mx\u001b[0m\u001b[0;34m:\u001b[0m \u001b[0mx\u001b[0m\u001b[0;34m[\u001b[0m\u001b[0;36m1\u001b[0m\u001b[0;34m]\u001b[0m\u001b[0;34m)\u001b[0m\u001b[0;34m.\u001b[0m\u001b[0mcollect\u001b[0m\u001b[0;34m(\u001b[0m\u001b[0;34m)\u001b[0m\u001b[0;34m\u001b[0m\u001b[0m\n",
      "\u001b[0;31mNameError\u001b[0m: name 'plt' is not defined"
     ]
    }
   ],
   "source": [
    "fig = plt.figure(figsize=(15,6))\n",
    "ax = fig.add_subplot(111)\n",
    "\n",
    "data = joinDF.groupBy('Category','Temperature').count().orderBy('Category','Temperature')\n",
    "x = data.rdd.map(lambda x: x[1]).collect()\n",
    "y = data.rdd.map(lambda x: x[2]).collect()\n",
    "ax.plot(x,y, color='darkred')\n",
    "\n",
    "for cat in categories:\n",
    "    data = joinDF.where(col('Category')==cat).groupBy('Temperature').count().orderBy('Temperature')\n",
    "    x = data.rdd.map(lambda x: x[0]).collect()\n",
    "    y = data.rdd.map(lambda x: x[1]).collect()\n",
    "    ax.plot(x,y, color='grey')"
   ]
  },
  {
   "cell_type": "code",
   "execution_count": 313,
   "metadata": {},
   "outputs": [
    {
     "name": "stdout",
     "output_type": "stream",
     "text": [
      "+----+------------------+\n",
      "|Year|  avg(Temperature)|\n",
      "+----+------------------+\n",
      "|2005| 58.34817109584951|\n",
      "|2006| 57.07521109595798|\n",
      "|2007| 57.65188645660024|\n",
      "|2008| 57.74488893292101|\n",
      "|2009|57.865564604351526|\n",
      "|2010| 57.26009751129019|\n",
      "|2011|57.043870060554745|\n",
      "|2012|57.190372395186195|\n",
      "|2013|57.871313953640566|\n",
      "|2014|60.263115474794844|\n",
      "|2015| 60.11763540881387|\n",
      "|2016| 58.71374508725304|\n",
      "|2017|  59.0994617924315|\n",
      "|2018| 55.55216565185473|\n",
      "+----+------------------+\n",
      "\n"
     ]
    }
   ],
   "source": [
    "joinDF.orderBy('Year').groupBy('Year').avg('Temperature').show()\n",
    "temp = joinDF.orderBy('Year').groupBy('Year').avg('Temperature')\n",
    "x = temp_count.rdd.map(lambda x: x[0]).collect()\n",
    "y = temp_count.rdd.map(lambda x: x[1]).collect()"
   ]
  },
  {
   "cell_type": "code",
   "execution_count": 144,
   "metadata": {},
   "outputs": [],
   "source": [
    "from matplotlib.colors import Normalize\n",
    "from matplotlib.collections import PatchCollection, QuadMesh\n",
    "from mpl_toolkits.basemap import Basemap\n",
    "\n",
    "from descartes import PolygonPatch\n",
    "\n",
    "from shapely.geometry import Point, Polygon, MultiPoint, MultiPolygon\n",
    "from shapely.prepared import prep\n",
    "\n",
    "from itertools import chain\n",
    "\n",
    "import fiona\n",
    "\n",
    "shp = fiona.open('sffind_neighborhoods.shp')\n",
    "\n",
    "# Extract map boundaries\n",
    "bds = shp.bounds\n",
    "shp.close()\n",
    "extra = 0.01\n",
    "#left bottom\n",
    "# ll = (bds[0], bds[1])\n",
    "#right top\n",
    "# ur = (bds[2], bds[3])\n",
    "# coords = list(chain(ll, ur))\n",
    "coords = list(bds)\n",
    "# width, height of map\n",
    "w, h = coords[2] - coords[0], coords[3] - coords[1]"
   ]
  },
  {
   "cell_type": "code",
   "execution_count": 105,
   "metadata": {},
   "outputs": [
    {
     "name": "stdout",
     "output_type": "stream",
     "text": [
      "Read SF neighborhood data into Basemap\n"
     ]
    },
    {
     "data": {
      "image/png": "[encoded data removed]",
      "text/plain": [
       "<Figure size 432x288 with 1 Axes>"
      ]
     },
     "metadata": {},
     "output_type": "display_data"
    }
   ],
   "source": [
    "m = Basemap(\n",
    "    projection='tmerc',\n",
    "    lon_0=coords[0]+w/2,\n",
    "    lat_0=coords[1]+h/2,\n",
    "    ellps = 'WGS84',\n",
    "    llcrnrlon=coords[0] - extra * w,\n",
    "    llcrnrlat=coords[1] - extra + 0.01 * h,\n",
    "    urcrnrlon=coords[2] + extra * w,\n",
    "    urcrnrlat=coords[3] + extra + 0.01 * h,\n",
    "    lat_ts=0,\n",
    "    resolution='i',\n",
    "    suppress_ticks=True)\n",
    "\n",
    "m.readshapefile(\n",
    "    'sffind_neighborhoods',\n",
    "    'SF',\n",
    "    color='none')\n",
    "\n",
    "print \"Read SF neighborhood data into Basemap\""
   ]
  },
  {
   "cell_type": "code",
   "execution_count": 141,
   "metadata": {},
   "outputs": [],
   "source": [
    "df_map = pd.DataFrame({\n",
    "    'poly': [Polygon(xy) for xy in m.SF],\n",
    "    'ward_name': [ward['name'] for ward in m.SF_info]})\n",
    "df_map['area_m'] = df_map['poly'].map(lambda x: x.area)\n",
    "df_map['area_km'] = df_map['area_m'] / 1000000\n",
    "# Draw neighborhoods with polygons\n",
    "df_map['patches'] = df_map['poly'].map(lambda x: PolygonPatch(\n",
    "    x,\n",
    "    fc='#000000',\n",
    "    ec='#ffffff', lw=.5, alpha=1,\n",
    "    zorder=1))\n",
    "# df_map.ward_name.count()"
   ]
  },
  {
   "cell_type": "code",
   "execution_count": 165,
   "metadata": {
    "scrolled": false
   },
   "outputs": [
    {
     "data": {
      "text/plain": [
       "<Figure size 432x288 with 0 Axes>"
      ]
     },
     "metadata": {},
     "output_type": "display_data"
    },
    {
     "data": {
      "image/png": "[encoded data removed]",
      "text/plain": [
       "<Figure size 720x720 with 1 Axes>"
      ]
     },
     "metadata": {},
     "output_type": "display_data"
    }
   ],
   "source": [
    "plt.clf()\n",
    "fig = plt.figure()\n",
    "fig.add_axes(frameon=False, axisbg='w')\n",
    "ax = fig.add_subplot(111)\n",
    "\n",
    "ax.axis([x.min(), x.max(), y.min(), y.max()])\n",
    "# generate 2 2d grids for the x & y bounds\n",
    "y, x = np.meshgrid(np.linspace(coords[0], coords[2], 100), np.linspace(coords[1], coords[3], 100))\n",
    "\n",
    "z = (1 - x / 2. + x ** 5 + y ** 3) * np.exp(-x ** 2 - y ** 2)\n",
    "# x and y are bounds, so z should be the value *inside* those bounds.\n",
    "# Therefore, remove the last value from the z array.\n",
    "z = z[:-1, :-1]\n",
    "z_min, z_max = -np.abs(z).max(), np.abs(z).max()\n",
    "\n",
    "# bmScatter(2)\n",
    "c = ax.pcolormesh(x, y, z, cmap='RdBu', vmin=z_min, vmax=z_max, zorder=2)\n",
    "ax.add_collection(PatchCollection(df_map['patches'].values, match_original=True))\n",
    "\n",
    "# m.drawmapscale(\n",
    "#     coords[0] + 0.015, coords[1] - 0.005,\n",
    "#     coords[0], coords[1],\n",
    "#     2.,\n",
    "#     barstyle='fancy', labelstyle='simple',\n",
    "#     fillcolor1='w', fillcolor2='#555555',\n",
    "#     fontcolor='#555555')\n",
    "\n",
    "m.pcolormesh(x,y,z,shading='flat',cmap='RdBu',latlon=False,zorder=5)\n",
    "\n",
    "# fig.colorbar(c, ax=ax)\n",
    "plt.tight_layout()\n",
    "plt.legend(loc=\"center right\")\n",
    "# plt.title(\"Geographic distribution of crimes in San Francisco during Summer {}\".format(pts_label[2]), size=17)\n",
    "fig.set_size_inches(10,10)\n",
    "plt.show()"
   ]
  },
  {
   "cell_type": "code",
   "execution_count": 157,
   "metadata": {},
   "outputs": [
    {
     "data": {
      "image/png": "[encoded data removed]",
      "text/plain": [
       "<Figure size 1080x720 with 2 Axes>"
      ]
     },
     "metadata": {
      "needs_background": "light"
     },
     "output_type": "display_data"
    }
   ],
   "source": [
    "import numpy as np\n",
    "from mpl_toolkits.basemap import Basemap\n",
    "import matplotlib.pyplot as plt\n",
    "from pandas import DataFrame\n",
    "\n",
    "fig = plt.figure()\n",
    "fig.add_axes(frameon=False, axisbg='w')\n",
    "ax = fig.add_subplot(111)\n",
    "\n",
    "# m = Basemap(llcrnrlon = -170, llcrnrlat = 10, urcrnrlon = -50, urcrnrlat = 80)\n",
    "m = Basemap(\n",
    "    projection='tmerc',\n",
    "    lon_0=coords[0]+w/2,\n",
    "    lat_0=coords[1]+h/2,\n",
    "    ellps = 'WGS84',\n",
    "    llcrnrlon=coords[0] - extra * w,\n",
    "    llcrnrlat=coords[1] - extra + 0.01 * h,\n",
    "    urcrnrlon=coords[2] + extra * w,\n",
    "    urcrnrlat=coords[3] + extra + 0.01 * h,\n",
    "    lat_ts=0,\n",
    "    resolution='i',\n",
    "    suppress_ticks=True)\n",
    "\n",
    "m.drawcoastlines()\n",
    "m.drawstates()\n",
    "\n",
    "# ax.add_collection(PatchCollection(df_map['patches'].values, match_original=True))\n",
    "# lon = np.array([-95,  -94,  -93,  -92, -91])\n",
    "# lat = np.array([43, 42, 41])\n",
    "# data = np.array([[0,4,8,3],[7,3,0,0]])\n",
    "# you have to write just like here to convert coordinates\n",
    "# x,y = m(lon,lat)\n",
    "x, y = np.meshgrid(np.linspace(coords[0], coords[2], 100), np.linspace(coords[1], coords[3], 100))\n",
    "z = (1 - x / 2. + x ** 5 + y ** 3) * np.exp(-x ** 2 - y ** 2)\n",
    "# x and y are bounds, so z should be the value *inside* those bounds.\n",
    "# Therefore, remove the last value from the z array.\n",
    "z = z[:-1, :-1]\n",
    "z_min, z_max = -np.abs(z).max(), np.abs(z).max()\n",
    "\n",
    "my_cmap = plt.get_cmap('rainbow')\n",
    "my_cmap.set_under('white')\n",
    "cs = m.pcolormesh(x,y,z,cmap = my_cmap)\n",
    "m.colorbar(cs, extend = 'min')\n",
    "fig.set_size_inches(15,10)\n",
    "plt.show()"
   ]
  },
  {
   "cell_type": "code",
   "execution_count": null,
   "metadata": {},
   "outputs": [],
   "source": [
    "import numpy as np\n",
    "from mpl_toolkits.basemap import Basemap\n",
    "import matplotlib.pyplot as plt\n",
    "from pandas import DataFrame\n",
    "\n",
    "m = Basemap(llcrnrlon = -170, llcrnrlat = 10, urcrnrlon = -50, urcrnrlat = 80)\n",
    "m.drawcoastlines()\n",
    "m.drawstates()\n",
    "\n",
    "lon = np.array([-95,  -94,  -93,  -92, -91])\n",
    "lat = np.array([43, 42, 41])\n",
    "data = np.array([[0,4,8,3],[7,3,0,0]])\n",
    "# you have to write just like here to convert coordinates\n",
    "x,y = m(lon,lat)\n",
    "\n",
    "my_cmap = plt.get_cmap('rainbow')\n",
    "my_cmap.set_under('white')\n",
    "cs = m.pcolormesh(x,y,data,cmap = my_cmap)\n",
    "m.colorbar(cs, extend = 'min')\n",
    "plt.show()"
   ]
  }
 ],
 "metadata": {
  "kernelspec": {
   "display_name": "Python 2",
   "language": "python",
   "name": "python2"
  },
  "language_info": {
   "codemirror_mode": {
    "name": "ipython",
    "version": 2
   },
   "file_extension": ".py",
   "mimetype": "text/x-python",
   "name": "python",
   "nbconvert_exporter": "python",
   "pygments_lexer": "ipython2",
   "version": "2.7.16"
  }
 },
 "nbformat": 4,
 "nbformat_minor": 2
}
