{
 "cells": [
  {
   "cell_type": "code",
   "execution_count": 1,
   "metadata": {},
   "outputs": [],
   "source": [
    "%matplotlib inline\n",
    "import os\n",
    "\n",
    "import numpy as np\n",
    "import pandas as pd\n",
    "# import seaborn as sns\n",
    "import calmap as cm\n",
    "\n",
    "# from nba_utils import draw_3pt_piechart,plot_shot_chart\n",
    "\n",
    "from IPython.core.display import display, HTML\n",
    "from IPython.core.magic import register_cell_magic, register_line_cell_magic, register_line_magic\n",
    "from matplotlib import pyplot as plt\n",
    "# from matplotlib import cm as cm\n",
    "from matplotlib import colorbar as cbar\n",
    "from matplotlib import cbook as cbook\n",
    "from pyspark.ml.regression import LinearRegression\n",
    "from pyspark.ml.feature import VectorAssembler\n",
    "from pyspark.sql.functions import array, col, count, mean, sum, udf, when\n",
    "from pyspark.sql.types import DoubleType, IntegerType, StringType, Row\n",
    "from pyspark.sql.functions import sum, col, udf, expr\n",
    "from pyspark.sql.functions import year, month, dayofmonth, hour, minute\n",
    "from pyspark.sql.types import *\n",
    "\n",
    "import warnings\n",
    "warnings.filterwarnings(\"ignore\")\n",
    "\n",
    "# sns.set_style(\"white\")\n",
    "# sns.set_color_codes()"
   ]
  },
  {
   "cell_type": "markdown",
   "metadata": {},
   "source": [
    "# Crime data import"
   ]
  },
  {
   "cell_type": "code",
   "execution_count": 2,
   "metadata": {},
   "outputs": [],
   "source": [
    "customSchema = StructType([ \n",
    "    StructField(\"IncidntNum\", StringType(), True), \n",
    "    StructField(\"Category\", StringType(), True), \n",
    "    StructField(\"Description\", StringType(), True), \n",
    "    StructField(\"DayOfWeek\", StringType(), True), \n",
    "    StructField(\"Date_str\", StringType(), True), \n",
    "    StructField(\"Time_str\", StringType(), True), \n",
    "    StructField(\"District\", StringType(), True), \n",
    "    StructField(\"Resolution\", StringType(), True), \n",
    "    StructField(\"Address\", StringType(), True),\n",
    "    StructField(\"Longitude\", DoubleType(), True),\n",
    "    StructField(\"Latitude\", DoubleType(), True),\n",
    "    StructField(\"Location\", StringType(), True),\n",
    "    StructField(\"PdId\", StringType(), True), ])"
   ]
  },
  {
   "cell_type": "code",
   "execution_count": 3,
   "metadata": {},
   "outputs": [],
   "source": [
    "crimeDFsource = spark.read.csv('s3a://davidsx/dataSFcrime/', header=True, schema = customSchema)"
   ]
  },
  {
   "cell_type": "code",
   "execution_count": 4,
   "metadata": {},
   "outputs": [],
   "source": [
    "from pyspark.sql.functions import to_timestamp, concat_ws\n",
    "\n",
    "crimeDF = crimeDFsource.withColumn(\"DateTime_str\", concat_ws(' ',crimeDFsource.Date_str,crimeDFsource.Time_str))\\\n",
    ".withColumn('Datetime',to_timestamp('DateTime_str', 'MM/dd/yyyy HH:mm').cast(TimestampType()))\\\n",
    "\n",
    "crimeDF = crimeDF.withColumn(\"Year\", year(\"Datetime\")).withColumn(\"Month\", month(\"Datetime\"))\\\n",
    ".withColumn(\"DayOfMonth\",dayofmonth(\"Datetime\")).withColumn(\"Hour\", hour(\"Datetime\"))\\\n",
    ".withColumn(\"Minute\", minute(\"Datetime\"))\n",
    "\n",
    "crimeDF = crimeDF.drop('Date_str','Time_str','DateTime_str','Resolution','Location','PdId')\n",
    "crimeDF = crimeDF.select('IncidntNum', 'Category', 'Description', 'Datetime', 'Year', 'Month', \\\n",
    " 'DayOfMonth', 'DayOfWeek', 'Hour', 'Minute', 'District', 'Address', 'Longitude', 'Latitude')"
   ]
  },
  {
   "cell_type": "code",
   "execution_count": 296,
   "metadata": {},
   "outputs": [
    {
     "data": {
      "text/plain": [
       "2215024"
      ]
     },
     "execution_count": 296,
     "metadata": {},
     "output_type": "execute_result"
    }
   ],
   "source": [
    "crimeDF.count()"
   ]
  },
  {
   "cell_type": "markdown",
   "metadata": {},
   "source": [
    "# Weather Data Import"
   ]
  },
  {
   "cell_type": "code",
   "execution_count": 5,
   "metadata": {},
   "outputs": [],
   "source": [
    "weatherDF = spark.read.csv('s3a://davidsx/weather', header=True)"
   ]
  },
  {
   "cell_type": "code",
   "execution_count": 202,
   "metadata": {},
   "outputs": [
    {
     "data": {
      "text/plain": [
       "16118"
      ]
     },
     "execution_count": 202,
     "metadata": {},
     "output_type": "execute_result"
    }
   ],
   "source": [
    "weatherDF.count()"
   ]
  },
  {
   "cell_type": "code",
   "execution_count": 6,
   "metadata": {},
   "outputs": [],
   "source": [
    "from pyspark.sql.functions import to_timestamp, concat_ws, regexp_replace\n",
    "\n",
    "weatherDF = weatherDF.withColumn('Datetime_str',regexp_replace(col(\"DATE\"), \"T\", \" \"))\\\n",
    ".withColumn('Datetime',to_timestamp('DateTime_str', 'yyyy-MM-dd HH:mm:ss').cast(TimestampType()))\\\n",
    "\n",
    "\n",
    "weatherDF = weatherDF.withColumn(\"Year\", year(\"Datetime\")).withColumn(\"Month\", month(\"Datetime\"))\\\n",
    ".withColumn(\"DayOfMonth\",dayofmonth(\"Datetime\")).withColumn(\"Hour\", hour(\"Datetime\"))\\\n",
    ".withColumn(\"Minute\", minute(\"Datetime\"))\n",
    "\n",
    "weatherDF = weatherDF.withColumn(\"Type\",col(\"REPORT_TYPE2\"))\n",
    "\n",
    "weatherDF = weatherDF.drop('DATE','Datetime_str','REPORT_TYPE2')\n",
    "# weatherDF.select('DATE').show()"
   ]
  },
  {
   "cell_type": "code",
   "execution_count": 208,
   "metadata": {},
   "outputs": [
    {
     "name": "stdout",
     "output_type": "stream",
     "text": [
      "+-----+-----+\n",
      "| Type|count|\n",
      "+-----+-----+\n",
      "|FM-15|10799|\n",
      "|SOM  |  158|\n",
      "|SOD  | 5161|\n",
      "+-----+-----+\n",
      "\n"
     ]
    }
   ],
   "source": [
    "weatherDF.groupBy('Type').count().show()"
   ]
  },
  {
   "cell_type": "code",
   "execution_count": 7,
   "metadata": {},
   "outputs": [],
   "source": [
    "wdDF = weatherDF.where(col('Type').like('SOD%'))\n",
    "wdDF = wdDF.select(  \\\n",
    " 'Type',\n",
    " 'Datetime',\n",
    " 'Year',\n",
    " 'Month',\n",
    " 'DayOfMonth',\n",
    " 'Hour',\n",
    " 'Minute',\n",
    " 'DailyAverageDryBulbTemperature',\n",
    "#  'DailyCoolingDegreeDays',\n",
    "#  'DailyDepartureFromNormalAverageTemperature',\n",
    "#  'DailyHeatingDegreeDays',\n",
    "#  'DailyMaximumDryBulbTemperature',\n",
    "#  'DailyMinimumDryBulbTemperature',\n",
    " 'DailyPrecipitation').where(col('Year')!=2019)\n",
    "wdDF = wdDF.withColumn('Temperature_str',col('DailyAverageDryBulbTemperature')).drop('DailyAverageDryBulbTemperature')\n",
    "wdDF = wdDF.withColumn('Precipitation_str',col('DailyPrecipitation')).drop('DailyPrecipitation')\n",
    "# weatherDF = weatherDF.withColumn('Precipitation_str',col('Precipitation')).drop('Precipitation')\n",
    "wdDF = wdDF\\\n",
    ".withColumn(\"Precipitation\", when(col(\"Precipitation_str\").endswith('s'), \\\n",
    "                                  expr(\"substring(Precipitation_str, 1, length(Precipitation_str)-1)\")\\\n",
    "                                  .cast(DoubleType()))\n",
    "            .otherwise(col(\"Precipitation_str\").cast(DoubleType())))\n",
    "wdDF = wdDF.withColumn(\"Temperature\", col('Temperature_str').cast(DoubleType()))"
   ]
  },
  {
   "cell_type": "code",
   "execution_count": 272,
   "metadata": {},
   "outputs": [
    {
     "data": {
      "text/plain": [
       "5102"
      ]
     },
     "execution_count": 272,
     "metadata": {},
     "output_type": "execute_result"
    }
   ],
   "source": [
    "wdDF.count()"
   ]
  },
  {
   "cell_type": "markdown",
   "metadata": {},
   "source": [
    "# Create joined dataframe"
   ]
  },
  {
   "cell_type": "code",
   "execution_count": 8,
   "metadata": {},
   "outputs": [],
   "source": [
    "crimeDF.cache()\n",
    "sqlContext.registerDataFrameAsTable(crimeDF, 'df')\n",
    "sqlContext.registerDataFrameAsTable(wdDF, 'wd')"
   ]
  },
  {
   "cell_type": "code",
   "execution_count": 9,
   "metadata": {},
   "outputs": [],
   "source": [
    "joinDF = sqlContext.sql(\n",
    "\"select df.Category, df.Datetime, df.Year, df.Month, df.DayOfMonth, df.Hour, df.Minute, \\\n",
    "        df.Longitude, df.Latitude, wd.Temperature, wd.Precipitation \" + \n",
    "\"from df left join wd \" +\n",
    "\"where df.Year = wd.Year and df.Month = wd.Month and df.DayOfMonth = wd.DayOfMonth\")\\\n",
    ".where((col('Longitude').isNotNull())&(col('Latitude').isNotNull())&\\\n",
    "       (col('Temperature').isNotNull())&(col('Precipitation').isNotNull()))"
   ]
  },
  {
   "cell_type": "markdown",
   "metadata": {},
   "source": [
    "# Crime vs precipitation "
   ]
  },
  {
   "cell_type": "code",
   "execution_count": 312,
   "metadata": {
    "scrolled": false
   },
   "outputs": [
    {
     "name": "stdout",
     "output_type": "stream",
     "text": [
      "+-------------+-------+\n",
      "|Precipitation|  count|\n",
      "+-------------+-------+\n",
      "|          0.0|1560948|\n",
      "|         0.01|  36663|\n",
      "|         0.02|  19744|\n",
      "|         0.03|  15213|\n",
      "|         0.04|  12441|\n",
      "|         0.05|  10268|\n",
      "|         0.06|   8319|\n",
      "|         0.07|   7795|\n",
      "|         0.08|   8996|\n",
      "|         0.09|  10047|\n",
      "|          0.1|   8993|\n",
      "|         0.11|   5959|\n",
      "|         0.12|   4880|\n",
      "|         0.13|   8174|\n",
      "|         0.14|   7938|\n",
      "|         0.15|   6288|\n",
      "|         0.16|   5985|\n",
      "|         0.17|   5413|\n",
      "|         0.18|   7960|\n",
      "|         0.19|   2673|\n",
      "+-------------+-------+\n",
      "only showing top 20 rows\n",
      "\n"
     ]
    }
   ],
   "source": [
    "joinDF.orderBy('Precipitation').groupBy('Precipitation').count().show()\n",
    "rain_count = joinDF.orderBy('Precipitation').groupBy('Precipitation').count()\\\n",
    ".where(col('Precipitation').between(0.01,1.5))\n",
    "precipitation = rain_count.rdd.map(lambda x: x[0]).collect()\n",
    "count = rain_count.rdd.map(lambda x: x[1]).collect()"
   ]
  },
  {
   "cell_type": "code",
   "execution_count": 302,
   "metadata": {},
   "outputs": [
    {
     "data": {
      "text/plain": [
       "[<matplotlib.lines.Line2D at 0x7f03f60a0450>]"
      ]
     },
     "execution_count": 302,
     "metadata": {},
     "output_type": "execute_result"
    },
    {
     "data": {
      "image/png": "[encoded data removed]",
      "text/plain": [
       "<Figure size 1080x432 with 1 Axes>"
      ]
     },
     "metadata": {
      "needs_background": "light"
     },
     "output_type": "display_data"
    }
   ],
   "source": [
    "fig = plt.figure(figsize=(15,6))\n",
    "ax = fig.add_subplot(111)\n",
    "\n",
    "ax.plot(precipitation,count)"
   ]
  },
  {
   "cell_type": "code",
   "execution_count": 294,
   "metadata": {
    "scrolled": false
   },
   "outputs": [
    {
     "name": "stdout",
     "output_type": "stream",
     "text": [
      "+-----------+------+\n",
      "|Temperature| count|\n",
      "+-----------+------+\n",
      "|         42|  1417|\n",
      "|         43|  2477|\n",
      "|         44|  2788|\n",
      "|         45|  8149|\n",
      "|         46| 10830|\n",
      "|         47| 15806|\n",
      "|         48| 23749|\n",
      "|         49| 35405|\n",
      "|         50| 47526|\n",
      "|         51| 55379|\n",
      "|         52| 62365|\n",
      "|         53| 89761|\n",
      "|         54| 95193|\n",
      "|         55|128622|\n",
      "|         56|139159|\n",
      "|         57|149459|\n",
      "|         58|171685|\n",
      "|         59|157785|\n",
      "|         60|141549|\n",
      "|         61|109623|\n",
      "+-----------+------+\n",
      "only showing top 20 rows\n",
      "\n"
     ]
    }
   ],
   "source": [
    "joinDF.orderBy('Temperature').groupBy('Temperature').count().show()\n",
    "temp_count = joinDF.orderBy('Temperature').groupBy('Temperature').count().where(col('Temperature') > 0)\n",
    "temperature = temp_count.rdd.map(lambda x: x[0]).collect()\n",
    "count = temp_count.rdd.map(lambda x: x[1]).collect()"
   ]
  },
  {
   "cell_type": "code",
   "execution_count": 298,
   "metadata": {
    "scrolled": true
   },
   "outputs": [
    {
     "data": {
      "text/plain": [
       "[<matplotlib.lines.Line2D at 0x7f03f61b7dd0>]"
      ]
     },
     "execution_count": 298,
     "metadata": {},
     "output_type": "execute_result"
    },
    {
     "data": {
      "image/png": "[encoded data removed]",
      "text/plain": [
       "<Figure size 1080x432 with 1 Axes>"
      ]
     },
     "metadata": {
      "needs_background": "light"
     },
     "output_type": "display_data"
    }
   ],
   "source": [
    "fig = plt.figure(figsize=(15,6))\n",
    "ax = fig.add_subplot(111)\n",
    "\n",
    "ax.plot(temperature,count, color='darkred')"
   ]
  },
  {
   "cell_type": "code",
   "execution_count": 10,
   "metadata": {},
   "outputs": [],
   "source": [
    "categories = [u'ARSON', u'ASSAULT', u'BAD CHECKS', u'BRIBERY', u'BURGLARY', u'DISORDERLY CONDUCT',\\\n",
    "              u'DRIVING UNDER THE INFLUENCE', u'DRUG/NARCOTIC', u'DRUNKENNESS', u'EMBEZZLEMENT', \\\n",
    "              u'EXTORTION', u'FAMILY OFFENSES', u'FORGERY/COUNTERFEITING', u'FRAUD', u'GAMBLING', \\\n",
    "              u'KIDNAPPING', u'LARCENY/THEFT', u'LIQUOR LAWS', u'LOITERING', u'MISSING PERSON', \\\n",
    "              u'NON-CRIMINAL', u'OTHER OFFENSES', u'PORNOGRAPHY/OBSCENE MAT', u'PROSTITUTION', \\\n",
    "              u'RECOVERED VEHICLE', u'ROBBERY', u'RUNAWAY', u'SECONDARY CODES', \\\n",
    "              u'SEX OFFENSES, FORCIBLE', u'SEX OFFENSES, NON FORCIBLE', u'STOLEN PROPERTY', \\\n",
    "              u'SUICIDE', u'SUSPICIOUS OCC', u'TREA', u'TRESPASS', u'VANDALISM', u'VEHICLE THEFT',\\\n",
    "              u'WARRANTS', u'WEAPON LAWS']"
   ]
  },
  {
   "cell_type": "code",
   "execution_count": 1,
   "metadata": {},
   "outputs": [
    {
     "ename": "NameError",
     "evalue": "name 'plt' is not defined",
     "output_type": "error",
     "traceback": [
      "\u001b[0;31m---------------------------------------------------------------------------\u001b[0m",
      "\u001b[0;31mNameError\u001b[0m                                 Traceback (most recent call last)",
      "\u001b[0;32m<ipython-input-1-88246c460a26>\u001b[0m in \u001b[0;36m<module>\u001b[0;34m()\u001b[0m\n\u001b[0;32m----> 1\u001b[0;31m \u001b[0mfig\u001b[0m \u001b[0;34m=\u001b[0m \u001b[0mplt\u001b[0m\u001b[0;34m.\u001b[0m\u001b[0mfigure\u001b[0m\u001b[0;34m(\u001b[0m\u001b[0mfigsize\u001b[0m\u001b[0;34m=\u001b[0m\u001b[0;34m(\u001b[0m\u001b[0;36m15\u001b[0m\u001b[0;34m,\u001b[0m\u001b[0;36m6\u001b[0m\u001b[0;34m)\u001b[0m\u001b[0;34m)\u001b[0m\u001b[0;34m\u001b[0m\u001b[0m\n\u001b[0m\u001b[1;32m      2\u001b[0m \u001b[0max\u001b[0m \u001b[0;34m=\u001b[0m \u001b[0mfig\u001b[0m\u001b[0;34m.\u001b[0m\u001b[0madd_subplot\u001b[0m\u001b[0;34m(\u001b[0m\u001b[0;36m111\u001b[0m\u001b[0;34m)\u001b[0m\u001b[0;34m\u001b[0m\u001b[0m\n\u001b[1;32m      3\u001b[0m \u001b[0;34m\u001b[0m\u001b[0m\n\u001b[1;32m      4\u001b[0m \u001b[0mdata\u001b[0m \u001b[0;34m=\u001b[0m \u001b[0mjoinDF\u001b[0m\u001b[0;34m.\u001b[0m\u001b[0mgroupBy\u001b[0m\u001b[0;34m(\u001b[0m\u001b[0;34m'Category'\u001b[0m\u001b[0;34m,\u001b[0m\u001b[0;34m'Temperature'\u001b[0m\u001b[0;34m)\u001b[0m\u001b[0;34m.\u001b[0m\u001b[0mcount\u001b[0m\u001b[0;34m(\u001b[0m\u001b[0;34m)\u001b[0m\u001b[0;34m.\u001b[0m\u001b[0morderBy\u001b[0m\u001b[0;34m(\u001b[0m\u001b[0;34m'Category'\u001b[0m\u001b[0;34m,\u001b[0m\u001b[0;34m'Temperature'\u001b[0m\u001b[0;34m)\u001b[0m\u001b[0;34m\u001b[0m\u001b[0m\n\u001b[1;32m      5\u001b[0m \u001b[0mx\u001b[0m \u001b[0;34m=\u001b[0m \u001b[0mdata\u001b[0m\u001b[0;34m.\u001b[0m\u001b[0mrdd\u001b[0m\u001b[0;34m.\u001b[0m\u001b[0mmap\u001b[0m\u001b[0;34m(\u001b[0m\u001b[0;32mlambda\u001b[0m \u001b[0mx\u001b[0m\u001b[0;34m:\u001b[0m \u001b[0mx\u001b[0m\u001b[0;34m[\u001b[0m\u001b[0;36m1\u001b[0m\u001b[0;34m]\u001b[0m\u001b[0;34m)\u001b[0m\u001b[0;34m.\u001b[0m\u001b[0mcollect\u001b[0m\u001b[0;34m(\u001b[0m\u001b[0;34m)\u001b[0m\u001b[0;34m\u001b[0m\u001b[0m\n",
      "\u001b[0;31mNameError\u001b[0m: name 'plt' is not defined"
     ]
    }
   ],
   "source": [
    "fig = plt.figure(figsize=(15,6))\n",
    "ax = fig.add_subplot(111)\n",
    "\n",
    "data = joinDF.groupBy('Category','Temperature').count().orderBy('Category','Temperature')\n",
    "x = data.rdd.map(lambda x: x[1]).collect()\n",
    "y = data.rdd.map(lambda x: x[2]).collect()\n",
    "ax.plot(x,y, color='darkred')\n",
    "\n",
    "for cat in categories:\n",
    "    data = joinDF.where(col('Category')==cat).groupBy('Temperature').count().orderBy('Temperature')\n",
    "    x = data.rdd.map(lambda x: x[0]).collect()\n",
    "    y = data.rdd.map(lambda x: x[1]).collect()\n",
    "    ax.plot(x,y, color='grey')"
   ]
  },
  {
   "cell_type": "code",
   "execution_count": 313,
   "metadata": {},
   "outputs": [
    {
     "name": "stdout",
     "output_type": "stream",
     "text": [
      "+----+------------------+\n",
      "|Year|  avg(Temperature)|\n",
      "+----+------------------+\n",
      "|2005| 58.34817109584951|\n",
      "|2006| 57.07521109595798|\n",
      "|2007| 57.65188645660024|\n",
      "|2008| 57.74488893292101|\n",
      "|2009|57.865564604351526|\n",
      "|2010| 57.26009751129019|\n",
      "|2011|57.043870060554745|\n",
      "|2012|57.190372395186195|\n",
      "|2013|57.871313953640566|\n",
      "|2014|60.263115474794844|\n",
      "|2015| 60.11763540881387|\n",
      "|2016| 58.71374508725304|\n",
      "|2017|  59.0994617924315|\n",
      "|2018| 55.55216565185473|\n",
      "+----+------------------+\n",
      "\n"
     ]
    }
   ],
   "source": [
    "joinDF.orderBy('Year').groupBy('Year').avg('Temperature').show()\n",
    "temp = joinDF.orderBy('Year').groupBy('Year').avg('Temperature')\n",
    "x = temp_count.rdd.map(lambda x: x[0]).collect()\n",
    "y = temp_count.rdd.map(lambda x: x[1]).collect()"
   ]
  },
  {
   "cell_type": "code",
   "execution_count": 144,
   "metadata": {},
   "outputs": [],
   "source": [
    "from matplotlib.colors import Normalize\n",
    "from matplotlib.collections import PatchCollection, QuadMesh\n",
    "from mpl_toolkits.basemap import Basemap\n",
    "\n",
    "from descartes import PolygonPatch\n",
    "\n",
    "from shapely.geometry import Point, Polygon, MultiPoint, MultiPolygon\n",
    "from shapely.prepared import prep\n",
    "\n",
    "from itertools import chain\n",
    "\n",
    "import fiona\n",
    "\n",
    "shp = fiona.open('sffind_neighborhoods.shp')\n",
    "\n",
    "# Extract map boundaries\n",
    "bds = shp.bounds\n",
    "shp.close()\n",
    "extra = 0.01\n",
    "#left bottom\n",
    "# ll = (bds[0], bds[1])\n",
    "#right top\n",
    "# ur = (bds[2], bds[3])\n",
    "# coords = list(chain(ll, ur))\n",
    "coords = list(bds)\n",
    "# width, height of map\n",
    "w, h = coords[2] - coords[0], coords[3] - coords[1]"
   ]
  },
  {
   "cell_type": "code",
   "execution_count": 105,
   "metadata": {},
   "outputs": [
    {
     "name": "stdout",
     "output_type": "stream",
     "text": [
      "Read SF neighborhood data into Basemap\n"
     ]
    },
    {
     "data": {
      "image/png": "[encoded data removed]",
      "text/plain": [
       "<Figure size 432x288 with 1 Axes>"
      ]
     },
     "metadata": {},
     "output_type": "display_data"
    }
   ],
   "source": [
    "m = Basemap(\n",
    "    projection='tmerc',\n",
    "    lon_0=coords[0]+w/2,\n",
    "    lat_0=coords[1]+h/2,\n",
    "    ellps = 'WGS84',\n",
    "    llcrnrlon=coords[0] - extra * w,\n",
    "    llcrnrlat=coords[1] - extra + 0.01 * h,\n",
    "    urcrnrlon=coords[2] + extra * w,\n",
    "    urcrnrlat=coords[3] + extra + 0.01 * h,\n",
    "    lat_ts=0,\n",
    "    resolution='i',\n",
    "    suppress_ticks=True)\n",
    "\n",
    "m.readshapefile(\n",
    "    'sffind_neighborhoods',\n",
    "    'SF',\n",
    "    color='none')\n",
    "\n",
    "print \"Read SF neighborhood data into Basemap\""
   ]
  },
  {
   "cell_type": "code",
   "execution_count": 141,
   "metadata": {},
   "outputs": [],
   "source": [
    "df_map = pd.DataFrame({\n",
    "    'poly': [Polygon(xy) for xy in m.SF],\n",
    "    'ward_name': [ward['name'] for ward in m.SF_info]})\n",
    "df_map['area_m'] = df_map['poly'].map(lambda x: x.area)\n",
    "df_map['area_km'] = df_map['area_m'] / 1000000\n",
    "# Draw neighborhoods with polygons\n",
    "df_map['patches'] = df_map['poly'].map(lambda x: PolygonPatch(\n",
    "    x,\n",
    "    fc='#000000',\n",
    "    ec='#ffffff', lw=.5, alpha=1,\n",
    "    zorder=1))\n",
    "# df_map.ward_name.count()"
   ]
  },
  {
   "cell_type": "code",
   "execution_count": 165,
   "metadata": {
    "scrolled": false
   },
   "outputs": [
    {
     "data": {
      "text/plain": [
       "<Figure size 432x288 with 0 Axes>"
      ]
     },
     "metadata": {},
     "output_type": "display_data"
    },
    {
     "data": {
      "image/png": "[encoded data removed]",
      "text/plain": [
       "<Figure size 720x720 with 1 Axes>"
      ]
     },
     "metadata": {},
     "output_type": "display_data"
    }
   ],
   "source": [
    "plt.clf()\n",
    "fig = plt.figure()\n",
    "fig.add_axes(frameon=False, axisbg='w')\n",
    "ax = fig.add_subplot(111)\n",
    "\n",
    "ax.axis([x.min(), x.max(), y.min(), y.max()])\n",
    "# generate 2 2d grids for the x & y bounds\n",
    "y, x = np.meshgrid(np.linspace(coords[0], coords[2], 100), np.linspace(coords[1], coords[3], 100))\n",
    "\n",
    "z = (1 - x / 2. + x ** 5 + y ** 3) * np.exp(-x ** 2 - y ** 2)\n",
    "# x and y are bounds, so z should be the value *inside* those bounds.\n",
    "# Therefore, remove the last value from the z array.\n",
    "z = z[:-1, :-1]\n",
    "z_min, z_max = -np.abs(z).max(), np.abs(z).max()\n",
    "\n",
    "# bmScatter(2)\n",
    "c = ax.pcolormesh(x, y, z, cmap='RdBu', vmin=z_min, vmax=z_max, zorder=2)\n",
    "ax.add_collection(PatchCollection(df_map['patches'].values, match_original=True))\n",
    "\n",
    "# m.drawmapscale(\n",
    "#     coords[0] + 0.015, coords[1] - 0.005,\n",
    "#     coords[0], coords[1],\n",
    "#     2.,\n",
    "#     barstyle='fancy', labelstyle='simple',\n",
    "#     fillcolor1='w', fillcolor2='#555555',\n",
    "#     fontcolor='#555555')\n",
    "\n",
    "m.pcolormesh(x,y,z,shading='flat',cmap='RdBu',latlon=False,zorder=5)\n",
    "\n",
    "# fig.colorbar(c, ax=ax)\n",
    "plt.tight_layout()\n",
    "plt.legend(loc=\"center right\")\n",
    "# plt.title(\"Geographic distribution of crimes in San Francisco during Summer {}\".format(pts_label[2]), size=17)\n",
    "fig.set_size_inches(10,10)\n",
    "plt.show()"
   ]
  },
  {
   "cell_type": "code",
   "execution_count": 157,
   "metadata": {},
   "outputs": [
    {
     "data": {
      "image/png": "[encoded data removed]",
      "text/plain": [
       "<Figure size 1080x720 with 2 Axes>"
      ]
     },
     "metadata": {
      "needs_background": "light"
     },
     "output_type": "display_data"
    }
   ],
   "source": [
    "import numpy as np\n",
    "from mpl_toolkits.basemap import Basemap\n",
    "import matplotlib.pyplot as plt\n",
    "from pandas import DataFrame\n",
    "\n",
    "fig = plt.figure()\n",
    "fig.add_axes(frameon=False, axisbg='w')\n",
    "ax = fig.add_subplot(111)\n",
    "\n",
    "# m = Basemap(llcrnrlon = -170, llcrnrlat = 10, urcrnrlon = -50, urcrnrlat = 80)\n",
    "m = Basemap(\n",
    "    projection='tmerc',\n",
    "    lon_0=coords[0]+w/2,\n",
    "    lat_0=coords[1]+h/2,\n",
    "    ellps = 'WGS84',\n",
    "    llcrnrlon=coords[0] - extra * w,\n",
    "    llcrnrlat=coords[1] - extra + 0.01 * h,\n",
    "    urcrnrlon=coords[2] + extra * w,\n",
    "    urcrnrlat=coords[3] + extra + 0.01 * h,\n",
    "    lat_ts=0,\n",
    "    resolution='i',\n",
    "    suppress_ticks=True)\n",
    "\n",
    "m.drawcoastlines()\n",
    "m.drawstates()\n",
    "\n",
    "# ax.add_collection(PatchCollection(df_map['patches'].values, match_original=True))\n",
    "# lon = np.array([-95,  -94,  -93,  -92, -91])\n",
    "# lat = np.array([43, 42, 41])\n",
    "# data = np.array([[0,4,8,3],[7,3,0,0]])\n",
    "# you have to write just like here to convert coordinates\n",
    "# x,y = m(lon,lat)\n",
    "x, y = np.meshgrid(np.linspace(coords[0], coords[2], 100), np.linspace(coords[1], coords[3], 100))\n",
    "z = (1 - x / 2. + x ** 5 + y ** 3) * np.exp(-x ** 2 - y ** 2)\n",
    "# x and y are bounds, so z should be the value *inside* those bounds.\n",
    "# Therefore, remove the last value from the z array.\n",
    "z = z[:-1, :-1]\n",
    "z_min, z_max = -np.abs(z).max(), np.abs(z).max()\n",
    "\n",
    "my_cmap = plt.get_cmap('rainbow')\n",
    "my_cmap.set_under('white')\n",
    "cs = m.pcolormesh(x,y,z,cmap = my_cmap)\n",
    "m.colorbar(cs, extend = 'min')\n",
    "fig.set_size_inches(15,10)\n",
    "plt.show()"
   ]
  },
  {
   "cell_type": "code",
   "execution_count": null,
   "metadata": {},
   "outputs": [],
   "source": [
    "import numpy as np\n",
    "from mpl_toolkits.basemap import Basemap\n",
    "import matplotlib.pyplot as plt\n",
    "from pandas import DataFrame\n",
    "\n",
    "m = Basemap(llcrnrlon = -170, llcrnrlat = 10, urcrnrlon = -50, urcrnrlat = 80)\n",
    "m.drawcoastlines()\n",
    "m.drawstates()\n",
    "\n",
    "lon = np.array([-95,  -94,  -93,  -92, -91])\n",
    "lat = np.array([43, 42, 41])\n",
    "data = np.array([[0,4,8,3],[7,3,0,0]])\n",
    "# you have to write just like here to convert coordinates\n",
    "x,y = m(lon,lat)\n",
    "\n",
    "my_cmap = plt.get_cmap('rainbow')\n",
    "my_cmap.set_under('white')\n",
    "cs = m.pcolormesh(x,y,data,cmap = my_cmap)\n",
    "m.colorbar(cs, extend = 'min')\n",
    "plt.show()"
   ]
  }
 ],
 "metadata": {
  "kernelspec": {
   "display_name": "Python 2",
   "language": "python",
   "name": "python2"
  }
 },
 "nbformat": 4,
 "nbformat_minor": 2
}
