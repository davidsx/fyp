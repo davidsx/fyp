{
 "cells": [
  {
   "cell_type": "code",
   "execution_count": 1,
   "metadata": {},
   "outputs": [],
   "source": [
    "%matplotlib inline\n",
    "import os\n",
    "\n",
    "import numpy as np\n",
    "import pandas as pd\n",
    "# import seaborn as sns\n",
    "\n",
    "# from nba_utils import draw_3pt_piechart,plot_shot_chart\n",
    "\n",
    "from IPython.core.display import display, HTML\n",
    "from IPython.core.magic import register_cell_magic, register_line_cell_magic, register_line_magic\n",
    "from matplotlib import pyplot as plt\n",
    "from matplotlib import cm as cm\n",
    "from matplotlib import colorbar as cbar\n",
    "from matplotlib import cbook as cbook\n",
    "from pyspark.ml.regression import LinearRegression\n",
    "from pyspark.ml.feature import VectorAssembler\n",
    "from pyspark.sql.functions import array, col, count, mean, sum, udf, when\n",
    "from pyspark.sql.types import DoubleType, IntegerType, StringType, Row\n",
    "from pyspark.sql.functions import sum, col, udf\n",
    "from pyspark.sql.functions import year, month, dayofmonth, hour, minute\n",
    "from pyspark.sql.types import *\n",
    "\n",
    "import warnings\n",
    "warnings.filterwarnings(\"ignore\")\n",
    "\n",
    "# sns.set_style(\"white\")\n",
    "# sns.set_color_codes()"
   ]
  },
  {
   "cell_type": "code",
   "execution_count": 2,
   "metadata": {},
   "outputs": [],
   "source": [
    "customSchema = StructType([ \n",
    "    StructField(\"IncidntNum\", StringType(), True), \n",
    "    StructField(\"Category\", StringType(), True), \n",
    "    StructField(\"Description\", StringType(), True), \n",
    "    StructField(\"DayOfWeek\", StringType(), True), \n",
    "    StructField(\"Date_str\", StringType(), True), \n",
    "    StructField(\"Time_str\", StringType(), True), \n",
    "    StructField(\"District\", StringType(), True), \n",
    "    StructField(\"Resolution\", StringType(), True), \n",
    "    StructField(\"Address\", StringType(), True),\n",
    "    StructField(\"Longitude\", DoubleType(), True),\n",
    "    StructField(\"Latitude\", DoubleType(), True),\n",
    "    StructField(\"Location\", StringType(), True),\n",
    "    StructField(\"PdId\", StringType(), True), ])"
   ]
  },
  {
   "cell_type": "code",
   "execution_count": 3,
   "metadata": {},
   "outputs": [],
   "source": [
    "crimeDFsource = spark.read.csv('s3a://davidsx/dataSFcrime/', header=True, schema = customSchema)"
   ]
  },
  {
   "cell_type": "code",
   "execution_count": 4,
   "metadata": {},
   "outputs": [
    {
     "name": "stdout",
     "output_type": "stream",
     "text": [
      "root\n",
      " |-- IncidntNum: string (nullable = true)\n",
      " |-- Category: string (nullable = true)\n",
      " |-- Description: string (nullable = true)\n",
      " |-- DayOfWeek: string (nullable = true)\n",
      " |-- District: string (nullable = true)\n",
      " |-- Address: string (nullable = true)\n",
      " |-- Longitude: double (nullable = true)\n",
      " |-- Latitude: double (nullable = true)\n",
      " |-- Datetime: timestamp (nullable = true)\n",
      " |-- Year: integer (nullable = true)\n",
      " |-- Month: integer (nullable = true)\n",
      " |-- DayOfMonth: integer (nullable = true)\n",
      " |-- Hour: integer (nullable = true)\n",
      " |-- Minute: integer (nullable = true)\n",
      "\n"
     ]
    }
   ],
   "source": [
    "from pyspark.sql.functions import to_timestamp, concat_ws\n",
    "\n",
    "crimeDF = crimeDFsource.withColumn(\"DateTime_str\", concat_ws(' ',crimeDFsource.Date_str,crimeDFsource.Time_str))\\\n",
    ".withColumn('Datetime',to_timestamp('DateTime_str', 'MM/dd/yyyy HH:mm').cast(TimestampType()))\\\n",
    "\n",
    "crimeDF = crimeDF.withColumn(\"Year\", year(\"Datetime\")).withColumn(\"Month\", month(\"Datetime\"))\\\n",
    ".withColumn(\"DayOfMonth\",dayofmonth(\"Datetime\")).withColumn(\"Hour\", hour(\"Datetime\"))\\\n",
    ".withColumn(\"Minute\", minute(\"Datetime\"))\n",
    "\n",
    "crimeDF = crimeDF.drop('Date_str','Time_str','DateTime_str','Resolution','Location','PdId')\n",
    "crimeDF.printSchema()"
   ]
  },
  {
   "cell_type": "code",
   "execution_count": 5,
   "metadata": {},
   "outputs": [],
   "source": [
    "crimeDF.cache()\n",
    "sqlContext.registerDataFrameAsTable(crimeDF, 'df')"
   ]
  },
  {
   "cell_type": "code",
   "execution_count": 6,
   "metadata": {},
   "outputs": [],
   "source": [
    "count = crimeDF.groupBy('Category').count().orderBy('count')\\\n",
    ".filter(~col('Category').isin([u'NON-CRIMINAL', u'OTHER OFFENSES']))\n",
    "total = crimeDF.filter(~col('Category').isin([u'NON-CRIMINAL', u'OTHER OFFENSES'])).count()"
   ]
  },
  {
   "cell_type": "code",
   "execution_count": 7,
   "metadata": {},
   "outputs": [],
   "source": [
    "categories = [u'ARSON', u'ASSAULT', u'BAD CHECKS', u'BRIBERY', u'BURGLARY', u'DISORDERLY CONDUCT',\\\n",
    "              u'DRIVING UNDER THE INFLUENCE', u'DRUG/NARCOTIC', u'DRUNKENNESS', u'EMBEZZLEMENT', \\\n",
    "              u'EXTORTION', u'FAMILY OFFENSES', u'FORGERY/COUNTERFEITING', u'FRAUD', u'GAMBLING', \\\n",
    "              u'KIDNAPPING', u'LARCENY/THEFT', u'LIQUOR LAWS', u'LOITERING', u'MISSING PERSON', \\\n",
    "              u'NON-CRIMINAL', u'OTHER OFFENSES', u'PORNOGRAPHY/OBSCENE MAT', u'PROSTITUTION', \\\n",
    "              u'RECOVERED VEHICLE', u'ROBBERY', u'RUNAWAY', u'SECONDARY CODES', \\\n",
    "              u'SEX OFFENSES, FORCIBLE', u'SEX OFFENSES, NON FORCIBLE', u'STOLEN PROPERTY', \\\n",
    "              u'SUICIDE', u'SUSPICIOUS OCC', u'TREA', u'TRESPASS', u'VANDALISM', u'VEHICLE THEFT',\\\n",
    "              u'WARRANTS', u'WEAPON LAWS']\n",
    "categoryCount = len(categories)"
   ]
  },
  {
   "cell_type": "code",
   "execution_count": 8,
   "metadata": {},
   "outputs": [],
   "source": [
    "categories = count.rdd.map(lambda x: x[0]).collect()\n",
    "countlist = count.rdd.map(lambda x: x[1]).collect()\n",
    "categoryCount = len(countlist)\n",
    "n_categories = np.arange(categoryCount)\n",
    "n_count = len(categories)\n",
    "cmax = countlist[-1]\n",
    "ratiolist = np.arange(categoryCount,dtype=float)\n",
    "for c in range(categoryCount):\n",
    "    ratiolist[c] = \"{0:.2f}\".format(round(countlist[c]/float(total)*100.,2))"
   ]
  },
  {
   "cell_type": "code",
   "execution_count": 9,
   "metadata": {},
   "outputs": [],
   "source": [
    "# filtering\n",
    "ratiolist = ratiolist[-16:]\n",
    "categories = categories[-16:]\n",
    "countlist = countlist[-16:]\n",
    "categoryCount = len(countlist)\n",
    "n_categories = np.arange(categoryCount)\n",
    "colors = np.append(np.repeat(['grey'],10),np.repeat(['red'],categoryCount-10))\n",
    "sizes = np.append(np.repeat([8],10),np.repeat([12],categoryCount-10))\n",
    "color2 = np.append(np.repeat(['white'],10),np.repeat(['black'],categoryCount-10))"
   ]
  },
  {
   "cell_type": "code",
   "execution_count": 10,
   "metadata": {},
   "outputs": [
    {
     "data": {
      "image/png": "[encoded data removed]",
      "text/plain": [
       "<Figure size 1224x720 with 1 Axes>"
      ]
     },
     "metadata": {
      "needs_background": "light"
     },
     "output_type": "display_data"
    }
   ],
   "source": [
    "fig = plt.figure(figsize=(17,10))\n",
    "\n",
    "ax = fig.add_subplot(111)\n",
    "ax.set_yticklabels(categories, size=\"12\")\n",
    "ax.set_yticks(n_categories)\n",
    "# ax.set_ylabel(\"Crime Category\",size=\"20\")\n",
    "# ax.set_xlabel('Number of Incident',size=\"20\")\n",
    "ax.set_title('Number of Incident by Category', size=20, y=1.05)\n",
    "ax.grid(color='grey', axis='x', linewidth=.2)\n",
    "plt.tick_params(top='on', bottom='off', left='off', right='off', labelleft='on', labelbottom='on')\n",
    "plt.box(False)\n",
    "for i in range(len(n_categories)):\n",
    "    ax.text(countlist[i]+.5, n_categories[i] - .125, str(\"{}%\".format(ratiolist[i])), color=colors[i],size=sizes[i])\n",
    "\n",
    "bar = ax.barh(n_categories,countlist,height=0.5)\n",
    "# for b in range(len(bar)):\n",
    "#     bar[b].set_color(colors[b])"
   ]
  },
  {
   "cell_type": "code",
   "execution_count": 11,
   "metadata": {
    "collapsed": true
   },
   "outputs": [
    {
     "name": "stdout",
     "output_type": "stream",
     "text": [
      "+---------------------------+------+\n",
      "|Category                   |count |\n",
      "+---------------------------+------+\n",
      "|TREA                       |14    |\n",
      "|PORNOGRAPHY/OBSCENE MAT    |59    |\n",
      "|GAMBLING                   |348   |\n",
      "|SEX OFFENSES, NON FORCIBLE |431   |\n",
      "|EXTORTION                  |741   |\n",
      "|BRIBERY                    |813   |\n",
      "|BAD CHECKS                 |925   |\n",
      "|FAMILY OFFENSES            |1183  |\n",
      "|SUICIDE                    |1292  |\n",
      "|LOITERING                  |2430  |\n",
      "|EMBEZZLEMENT               |2988  |\n",
      "|ARSON                      |3931  |\n",
      "|LIQUOR LAWS                |4083  |\n",
      "|RUNAWAY                    |4440  |\n",
      "|KIDNAPPING                 |5346  |\n",
      "|DRIVING UNDER THE INFLUENCE|5672  |\n",
      "|RECOVERED VEHICLE          |8716  |\n",
      "|DRUNKENNESS                |9826  |\n",
      "|DISORDERLY CONDUCT         |10040 |\n",
      "|SEX OFFENSES, FORCIBLE     |11742 |\n",
      "|STOLEN PROPERTY            |11891 |\n",
      "|PROSTITUTION               |16701 |\n",
      "|TRESPASS                   |19449 |\n",
      "|WEAPON LAWS                |22234 |\n",
      "|FORGERY/COUNTERFEITING     |23050 |\n",
      "|SECONDARY CODES            |25831 |\n",
      "|FRAUD                      |41542 |\n",
      "|ROBBERY                    |55867 |\n",
      "|MISSING PERSON             |64961 |\n",
      "|SUSPICIOUS OCC             |80444 |\n",
      "|BURGLARY                   |91543 |\n",
      "|WARRANTS                   |101379|\n",
      "|VANDALISM                  |116059|\n",
      "|DRUG/NARCOTIC              |119628|\n",
      "|VEHICLE THEFT              |126602|\n",
      "|ASSAULT                    |194694|\n",
      "|LARCENY/THEFT              |480448|\n",
      "+---------------------------+------+\n",
      "\n"
     ]
    }
   ],
   "source": [
    "count.show(40,False)"
   ]
  },
  {
   "cell_type": "code",
   "execution_count": 13,
   "metadata": {},
   "outputs": [
    {
     "name": "stdout",
     "output_type": "stream",
     "text": [
      "+----+------+\n",
      "|Year| count|\n",
      "+----+------+\n",
      "|2003|149176|\n",
      "|2007|137639|\n",
      "|2018| 46668|\n",
      "|2015|156526|\n",
      "|2006|137853|\n",
      "|2013|152806|\n",
      "|null|     2|\n",
      "|2014|150128|\n",
      "|2004|148147|\n",
      "|2012|140847|\n",
      "|2009|139859|\n",
      "|2016|150883|\n",
      "|2005|142186|\n",
      "|2010|133523|\n",
      "|2011|132697|\n",
      "|2008|141311|\n",
      "|2017|154773|\n",
      "+----+------+\n",
      "\n"
     ]
    }
   ],
   "source": [
    "crimeDF.groupBy('Year').count().show()"
   ]
  },
  {
   "cell_type": "code",
   "execution_count": null,
   "metadata": {},
   "outputs": [],
   "source": [
    "crime_count.where((col('catCount')>100000)&(~col('Category').isin([u'NON-CRIMINAL', u'OTHER OFFENSES'])))\\\n",
    ".select('Category').rdd.map(lambda x : x[0]).collect()"
   ]
  },
  {
   "cell_type": "code",
   "execution_count": null,
   "metadata": {},
   "outputs": [],
   "source": [
    "main_crime = \\\n",
    "[u'WARRANTS',\n",
    " u'VANDALISM',\n",
    " u'DRUG/NARCOTIC',\n",
    " u'VEHICLE THEFT',\n",
    " u'ASSAULT',\n",
    " u'LARCENY/THEFT']"
   ]
  },
  {
   "cell_type": "code",
   "execution_count": null,
   "metadata": {},
   "outputs": [],
   "source": [
    "fig = plt.figure(figsize=(17,20))\n",
    "\n",
    "ax = fig.add_subplot(111)\n",
    "ax.set_yticklabels(categories, size=\"12\")\n",
    "ax.set_yticks(ind)\n",
    "ax.set_ylabel(\"Crime Category\",size=\"20\")\n",
    "ax.set_xlabel('Number of Incident',size=\"20\")\n",
    "ax.set_title('Number of Incident by Category', size=30, y=1.05)\n",
    "for i, v in enumerate(_df.catCount):\n",
    "    ax.text(v + 3, i - .125, str(v), fontweight='light')\n",
    "\n",
    "ax.barh(n_categories,_df.catCount, color = 'green')"
   ]
  }
 ],
 "metadata": {
  "kernelspec": {
   "display_name": "Python 2",
   "language": "python",
   "name": "python2"
  },
  "language_info": {
   "codemirror_mode": {
    "name": "ipython",
    "version": 2
   },
   "file_extension": ".py",
   "mimetype": "text/x-python",
   "name": "python",
   "nbconvert_exporter": "python",
   "pygments_lexer": "ipython2",
   "version": "2.7.16"
  }
 },
 "nbformat": 4,
 "nbformat_minor": 2
}
